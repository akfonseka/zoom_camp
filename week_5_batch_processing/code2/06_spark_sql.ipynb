{
 "cells": [
  {
   "cell_type": "code",
   "execution_count": 17,
   "id": "414815f7",
   "metadata": {},
   "outputs": [],
   "source": [
    "import pyspark\n",
    "from pyspark.sql import SparkSession\n",
    "import pyarrow\n",
    "import pandas as pd\n",
    "from pyspark.sql import types\n",
    "from pyspark.sql import functions as F"
   ]
  },
  {
   "cell_type": "code",
   "execution_count": 18,
   "id": "d5f9098c",
   "metadata": {},
   "outputs": [],
   "source": [
    "spark = SparkSession.builder \\\n",
    "    .master('spark://de-zoomcamp.europe-west2-c.c.ny-rides-arith.internal:7077') \\\n",
    "    .appName('test') \\\n",
    "    .getOrCreate()"
   ]
  },
  {
   "cell_type": "code",
   "execution_count": 19,
   "id": "1855bf27",
   "metadata": {},
   "outputs": [
    {
     "data": {
      "text/html": [
       "\n",
       "            <div>\n",
       "                <p><b>SparkSession - in-memory</b></p>\n",
       "                \n",
       "        <div>\n",
       "            <p><b>SparkContext</b></p>\n",
       "\n",
       "            <p><a href=\"http://de-zoomcamp.europe-west2-c.c.ny-rides-arith.internal:4040\">Spark UI</a></p>\n",
       "\n",
       "            <dl>\n",
       "              <dt>Version</dt>\n",
       "                <dd><code>v3.4.0</code></dd>\n",
       "              <dt>Master</dt>\n",
       "                <dd><code>spark://de-zoomcamp.europe-west2-c.c.ny-rides-arith.internal:7077</code></dd>\n",
       "              <dt>AppName</dt>\n",
       "                <dd><code>test</code></dd>\n",
       "            </dl>\n",
       "        </div>\n",
       "        \n",
       "            </div>\n",
       "        "
      ],
      "text/plain": [
       "<pyspark.sql.session.SparkSession at 0x7ffb96a4a230>"
      ]
     },
     "execution_count": 19,
     "metadata": {},
     "output_type": "execute_result"
    }
   ],
   "source": [
    "spark"
   ]
  },
  {
   "cell_type": "code",
   "execution_count": 20,
   "id": "92e35937",
   "metadata": {},
   "outputs": [],
   "source": [
    "df_green = spark.read.parquet('data/raw/green/*/*')"
   ]
  },
  {
   "cell_type": "code",
   "execution_count": 21,
   "id": "5bd7c546",
   "metadata": {},
   "outputs": [],
   "source": [
    "df_yellow = spark.read.parquet('data/raw/yellow/*/*')"
   ]
  },
  {
   "cell_type": "code",
   "execution_count": 22,
   "id": "e9f9c74a",
   "metadata": {},
   "outputs": [
    {
     "data": {
      "text/plain": [
       "{'DOLocationID',\n",
       " 'PULocationID',\n",
       " 'RatecodeID',\n",
       " 'VendorID',\n",
       " 'congestion_surcharge',\n",
       " 'extra',\n",
       " 'fare_amount',\n",
       " 'improvement_surcharge',\n",
       " 'mta_tax',\n",
       " 'passenger_count',\n",
       " 'payment_type',\n",
       " 'store_and_fwd_flag',\n",
       " 'tip_amount',\n",
       " 'tolls_amount',\n",
       " 'total_amount',\n",
       " 'trip_distance'}"
      ]
     },
     "execution_count": 22,
     "metadata": {},
     "output_type": "execute_result"
    }
   ],
   "source": [
    "set(df_green.columns) & set(df_yellow.columns)"
   ]
  },
  {
   "cell_type": "code",
   "execution_count": 33,
   "id": "2786120f",
   "metadata": {},
   "outputs": [],
   "source": [
    "df_yellow = df_yellow \\\n",
    "            .withColumnRenamed('tpep_pickup_datetime', 'pickup_datetime') \\\n",
    "            .withColumnRenamed('tpep_dropoff_datetime', 'dropoff_datetime')"
   ]
  },
  {
   "cell_type": "code",
   "execution_count": 34,
   "id": "b7dfa9a7",
   "metadata": {},
   "outputs": [],
   "source": [
    "df_green = df_green \\\n",
    "            .withColumnRenamed('lpep_pickup_datetime', 'pickup_datetime') \\\n",
    "            .withColumnRenamed('lpep_dropoff_datetime', 'dropoff_datetime')\n"
   ]
  },
  {
   "cell_type": "code",
   "execution_count": null,
   "id": "c84b4f03",
   "metadata": {},
   "outputs": [],
   "source": []
  },
  {
   "cell_type": "code",
   "execution_count": 35,
   "id": "e43829cc",
   "metadata": {},
   "outputs": [],
   "source": [
    "common_columns = []\n",
    "\n",
    "yellow_columns = set(df_yellow.columns)\n",
    "\n",
    "for col in df_green.columns:\n",
    "    if col in yellow_columns:\n",
    "        common_columns.append(col)"
   ]
  },
  {
   "cell_type": "code",
   "execution_count": 49,
   "id": "b7cfb4ca",
   "metadata": {},
   "outputs": [],
   "source": [
    "common_columns = [\n",
    "    'VendorID',\n",
    "    'pickup_datetime',\n",
    "    'dropoff_datetime',\n",
    "    'store_and_fwd_flag',\n",
    "    'RatecodeID',\n",
    "    'PULocationID',\n",
    "    'DOLocationID',\n",
    "    'passenger_count',\n",
    "    'trip_distance',\n",
    "    'fare_amount',\n",
    "    'extra',\n",
    "    'mta_tax',\n",
    "    'tip_amount',\n",
    "    'tolls_amount',\n",
    "    'improvement_surcharge',\n",
    "    'total_amount',\n",
    "    'payment_type',\n",
    "    'congestion_surcharge'\n",
    "]"
   ]
  },
  {
   "cell_type": "code",
   "execution_count": 50,
   "id": "a65f3c63",
   "metadata": {},
   "outputs": [],
   "source": [
    "df_green_sel = df_green \\\n",
    "    .select(common_columns) \\\n",
    "    .withColumn('service_type', F.lit('green'))"
   ]
  },
  {
   "cell_type": "code",
   "execution_count": 51,
   "id": "2374b878",
   "metadata": {},
   "outputs": [],
   "source": [
    "df_yellow_sel = df_yellow \\\n",
    "    .select(common_columns) \\\n",
    "    .withColumn('service_type', F.lit('yellow'))"
   ]
  },
  {
   "cell_type": "code",
   "execution_count": 52,
   "id": "e80fe0fe",
   "metadata": {},
   "outputs": [],
   "source": [
    "df_trips_data = df_green_sel.unionAll(df_yellow_sel)"
   ]
  },
  {
   "cell_type": "code",
   "execution_count": 53,
   "id": "b102f5d3",
   "metadata": {},
   "outputs": [
    {
     "name": "stderr",
     "output_type": "stream",
     "text": [
      "[Stage 25:===============================================>        (11 + 2) / 13]\r"
     ]
    },
    {
     "name": "stdout",
     "output_type": "stream",
     "text": [
      "+------------+--------+\n",
      "|service_type|   count|\n",
      "+------------+--------+\n",
      "|       green| 2802931|\n",
      "|      yellow|55553400|\n",
      "+------------+--------+\n",
      "\n"
     ]
    },
    {
     "name": "stderr",
     "output_type": "stream",
     "text": [
      "\r",
      "[Stage 25:===================================================>    (12 + 1) / 13]\r",
      "\r",
      "                                                                                \r"
     ]
    }
   ],
   "source": [
    "df_trips_data.groupBy('service_type').count().show()"
   ]
  },
  {
   "cell_type": "code",
   "execution_count": 54,
   "id": "344bde1c",
   "metadata": {},
   "outputs": [],
   "source": [
    "df_trips_data.registerTempTable('trips_data')"
   ]
  },
  {
   "cell_type": "code",
   "execution_count": 55,
   "id": "5b03c842",
   "metadata": {},
   "outputs": [
    {
     "name": "stderr",
     "output_type": "stream",
     "text": [
      "[Stage 28:===================================================>    (12 + 1) / 13]\r"
     ]
    },
    {
     "name": "stdout",
     "output_type": "stream",
     "text": [
      "+--------+------------+\n",
      "|count(1)|service_type|\n",
      "+--------+------------+\n",
      "| 2802931|       green|\n",
      "|55553400|      yellow|\n",
      "+--------+------------+\n",
      "\n"
     ]
    },
    {
     "name": "stderr",
     "output_type": "stream",
     "text": [
      "\r",
      "                                                                                \r"
     ]
    }
   ],
   "source": [
    "spark.sql(\"\"\"\n",
    "\n",
    "select \n",
    "    count(1)\n",
    "    ,service_type\n",
    "from trips_data\n",
    "group by\n",
    "    service_type\n",
    ";\n",
    "\n",
    "\"\"\").show()"
   ]
  },
  {
   "cell_type": "code",
   "execution_count": 46,
   "id": "e4b4aad9",
   "metadata": {},
   "outputs": [
    {
     "name": "stdout",
     "output_type": "stream",
     "text": [
      "+--------+------------------+----------+------------+------------+---------------+-------------+-----------+-----+-------+----------+------------+---------------------+------------+------------+--------------------+------------+\n",
      "|VendorID|store_and_fwd_flag|RatecodeID|PULocationID|DOLocationID|passenger_count|trip_distance|fare_amount|extra|mta_tax|tip_amount|tolls_amount|improvement_surcharge|total_amount|payment_type|congestion_surcharge|service_type|\n",
      "+--------+------------------+----------+------------+------------+---------------+-------------+-----------+-----+-------+----------+------------+---------------------+------------+------------+--------------------+------------+\n",
      "|       2|                 N|       1.0|         264|         264|            5.0|          0.0|        3.5|  0.5|    0.5|      0.01|         0.0|                  0.3|        4.81|         1.0|                 0.0|       green|\n",
      "|       2|                 N|       5.0|          66|          65|            2.0|         1.28|       20.0|  0.0|    0.0|      4.06|         0.0|                  0.3|       24.36|         1.0|                 0.0|       green|\n",
      "|       2|                 N|       1.0|         181|         228|            1.0|         2.47|       10.5|  0.5|    0.5|      3.54|         0.0|                  0.3|       15.34|         1.0|                 0.0|       green|\n",
      "|       1|                 N|       1.0|         129|         263|            2.0|          6.3|       21.0| 3.25|    0.5|       0.0|         0.0|                  0.3|       25.05|         2.0|                2.75|       green|\n",
      "|       1|                 N|       1.0|         210|         150|            1.0|          2.3|       10.0|  0.5|    0.5|       0.0|         0.0|                  0.3|        11.3|         1.0|                 0.0|       green|\n",
      "|       1|                 N|       1.0|          35|          39|            1.0|          3.0|       13.5|  0.5|    0.5|       0.0|         0.0|                  0.3|        14.8|         1.0|                 0.0|       green|\n",
      "|       2|                 N|       1.0|          25|          61|            1.0|         2.77|       11.0|  0.5|    0.5|       0.0|         0.0|                  0.3|        12.3|         2.0|                 0.0|       green|\n",
      "|       2|                 N|       1.0|         225|          89|            1.0|         4.98|       20.5|  0.5|    0.5|       0.0|         0.0|                  0.3|        21.8|         2.0|                 0.0|       green|\n",
      "|       2|                 N|       1.0|         129|         129|            1.0|         0.71|        5.5|  0.5|    0.5|       0.0|         0.0|                  0.3|         6.8|         2.0|                 0.0|       green|\n",
      "|       2|                 N|       1.0|         129|          83|            1.0|          0.8|        5.5|  0.5|    0.5|       0.0|         0.0|                  0.3|         6.8|         2.0|                 0.0|       green|\n",
      "|       2|                 N|       1.0|          82|         173|            1.0|         1.52|        9.5|  0.5|    0.5|       0.0|         0.0|                  0.3|        10.8|         2.0|                 0.0|       green|\n",
      "|       1|                 N|       1.0|          74|          69|            1.0|          3.8|       14.0|  0.5|    0.5|       0.0|         0.0|                  0.3|        15.3|         2.0|                 0.0|       green|\n",
      "|       2|                 N|       1.0|          74|          41|            1.0|         1.12|        6.5|  0.5|    0.5|       0.0|         0.0|                  0.3|         7.8|         1.0|                 0.0|       green|\n",
      "|       2|                 N|       1.0|          41|         127|            1.0|         5.67|       19.0|  0.5|    0.5|       0.0|         0.0|                  0.3|        20.3|         2.0|                 0.0|       green|\n",
      "|       2|                 N|       1.0|           7|         260|            1.0|         1.86|        9.5|  0.5|    0.5|       0.0|         0.0|                  0.3|        10.8|         2.0|                 0.0|       green|\n",
      "|       2|                 N|       1.0|           7|           7|            1.0|         1.42|        7.0|  0.5|    0.5|       0.0|         0.0|                  0.3|         8.3|         2.0|                 0.0|       green|\n",
      "|       2|                 N|       1.0|           7|         133|            1.0|        15.48|       43.0|  0.5|    0.5|      8.86|         0.0|                  0.3|       53.16|         1.0|                 0.0|       green|\n",
      "|       2|                 N|       1.0|         134|          28|            1.0|         1.15|        5.5|  0.5|    0.5|       1.0|         0.0|                  0.3|         7.8|         1.0|                 0.0|       green|\n",
      "|       1|                 N|       1.0|          89|          39|            1.0|          2.3|       10.0|  0.5|    0.5|       0.0|         0.0|                  0.3|        11.3|         2.0|                 0.0|       green|\n",
      "|       1|                 N|       1.0|          66|          65|            3.0|          1.0|        6.5|  0.5|    0.5|       0.0|         0.0|                  0.3|         7.8|         2.0|                 0.0|       green|\n",
      "+--------+------------------+----------+------------+------------+---------------+-------------+-----------+-----+-------+----------+------------+---------------------+------------+------------+--------------------+------------+\n",
      "only showing top 20 rows\n",
      "\n"
     ]
    }
   ],
   "source": [
    "spark.sql(\"\"\"\n",
    "\n",
    "select \n",
    "    *\n",
    "from trips_data\n",
    ";\n",
    "\n",
    "\"\"\").show()"
   ]
  },
  {
   "cell_type": "code",
   "execution_count": 57,
   "id": "b8e5565e",
   "metadata": {},
   "outputs": [],
   "source": [
    "df_result = spark.sql(\"\"\"\n",
    "SELECT \n",
    "    -- Revenue grouping \n",
    "    PULocationID AS revenue_zone,\n",
    "    date_trunc('month', pickup_datetime) AS revenue_month, \n",
    "    service_type, \n",
    "\n",
    "    -- Revenue calculation \n",
    "    SUM(fare_amount) AS revenue_monthly_fare,\n",
    "    SUM(extra) AS revenue_monthly_extra,\n",
    "    SUM(mta_tax) AS revenue_monthly_mta_tax,\n",
    "    SUM(tip_amount) AS revenue_monthly_tip_amount,\n",
    "    SUM(tolls_amount) AS revenue_monthly_tolls_amount,\n",
    "    SUM(improvement_surcharge) AS revenue_monthly_improvement_surcharge,\n",
    "    SUM(total_amount) AS revenue_monthly_total_amount,\n",
    "    SUM(congestion_surcharge) AS revenue_monthly_congestion_surcharge,\n",
    "\n",
    "    -- Additional calculations\n",
    "    AVG(passenger_count) AS avg_montly_passenger_count,\n",
    "    AVG(trip_distance) AS avg_montly_trip_distance\n",
    "FROM\n",
    "    trips_data\n",
    "GROUP BY\n",
    "    1, 2, 3\n",
    "\"\"\")"
   ]
  },
  {
   "cell_type": "code",
   "execution_count": 58,
   "id": "e25b6ea7",
   "metadata": {},
   "outputs": [
    {
     "name": "stderr",
     "output_type": "stream",
     "text": [
      "[Stage 31:===================================================>    (12 + 1) / 13]\r"
     ]
    },
    {
     "name": "stdout",
     "output_type": "stream",
     "text": [
      "+------------+-------------------+------------+--------------------+---------------------+-----------------------+--------------------------+----------------------------+-------------------------------------+----------------------------+------------------------------------+--------------------------+------------------------+\n",
      "|revenue_zone|      revenue_month|service_type|revenue_monthly_fare|revenue_monthly_extra|revenue_monthly_mta_tax|revenue_monthly_tip_amount|revenue_monthly_tolls_amount|revenue_monthly_improvement_surcharge|revenue_monthly_total_amount|revenue_monthly_congestion_surcharge|avg_montly_passenger_count|avg_montly_trip_distance|\n",
      "+------------+-------------------+------------+--------------------+---------------------+-----------------------+--------------------------+----------------------------+-------------------------------------+----------------------------+------------------------------------+--------------------------+------------------------+\n",
      "|         232|2020-01-01 00:00:00|       green|  7108.4500000000035|                502.0|                  32.55|                       0.0|          186.64000000000004|                    75.29999999999964|           7904.939999999989|                                2.75|        1.1428571428571428|       5.600396825396825|\n",
      "|          61|2020-02-01 00:00:00|       green|    69339.4300000004|               5996.0|                  893.0|        1025.1799999999996|           741.7500000000003|                    999.8999999999397|           79369.60999999837|                              120.75|        1.2360128617363344|      3.5227986444507238|\n",
      "|         168|2020-03-01 00:00:00|       green|  16018.859999999995|                261.5|                  291.5|        222.31000000000006|           624.2900000000003|                   298.50000000000557|          17858.309999999976|                               74.25|        1.2292993630573248|       4.038592375366565|\n",
      "|          76|2020-03-01 00:00:00|       green|   29693.67999999998|               225.75|                  160.0|        59.289999999999985|           793.7900000000005|                    402.0000000000095|          31531.759999999867|                                 0.0|        1.2048611111111112|        5.92969652109549|\n",
      "|         168|2019-12-01 00:00:00|       green|                20.0|                  0.5|                    0.5|                       0.0|                         0.0|                                  0.3|                        21.3|                                 0.0|                       1.0|                    6.54|\n",
      "|         194|2020-01-01 00:00:00|       green|              1151.5|                 41.5|                   11.5|                     11.14|           201.9600000000001|                    9.900000000000002|          1442.4000000000003|                                11.0|        1.2857142857142858|       7.282142857142855|\n",
      "|         260|2020-02-01 00:00:00|       green|   80328.49000000005|              3379.75|                 3330.0|         7016.409999999998|           585.6800000000003|                   2081.6999999998015|           97264.58000000793|                               571.5|        1.5792827504445761|      2.5521661424077786|\n",
      "|          70|2020-03-01 00:00:00|       green|   4011.080000000001|                 35.0|                   65.0|                      75.1|          119.08000000000003|                    71.39999999999968|           4404.460000000002|                               13.75|          1.25503355704698|       4.113861788617886|\n",
      "|          42|2009-01-01 00:00:00|       green|                 7.0|                  0.5|                    0.5|                       0.0|                         0.0|                                  0.3|                         8.3|                                 0.0|                       1.0|                    1.52|\n",
      "|         191|2021-10-01 00:00:00|       green|   7550.810000000004|                390.6|                   28.0|                      21.5|                      174.77|                    59.69999999999979|           8228.129999999994|                                 0.0|        1.0526315789473684|       2928.138844221106|\n",
      "|         166|2020-01-01 00:00:00|       green|  176918.85000000024|              8583.75|                 7631.5|        23883.979999999694|          2789.5999999999754|                     4685.70000000138|           236168.8299999716|                            13691.75|        1.1976834981780322|      2.4476409251769455|\n",
      "|         195|2020-01-01 00:00:00|       green|  11358.090000000017|                549.5|                  143.0|         804.6199999999999|           255.0700000000001|                   135.29999999999941|          13429.329999999987|                              129.25|         1.211726384364821|       4.585847619047619|\n",
      "|         207|2020-01-01 00:00:00|       green|  469.68999999999994|                22.75|                   19.5|                       0.0|          26.770000000000003|                    12.90000000000001|           551.6100000000004|                                 0.0|         1.162162162162162|      2.2102222222222223|\n",
      "|         237|2020-01-01 00:00:00|       green|  3895.6099999999997|                248.5|                    7.5|                       0.0|          176.44000000000008|                   31.500000000000053|           4359.549999999999|                                 0.0|                       1.0|      10.208504672897195|\n",
      "|         243|2020-02-01 00:00:00|       green|   41227.25999999999|               1845.5|                  806.0|                   2132.68|           952.0499999999997|                    615.8999999999979|           48293.43999999925|                              752.75|        1.1686251468860165|      4.5277266514806405|\n",
      "|          31|2020-02-01 00:00:00|       green|  1657.5600000000002|                 82.0|                   25.0|        107.82999999999998|           53.51999999999999|                   22.500000000000032|                     1975.91|                               30.25|        1.0178571428571428|       5.226790123456792|\n",
      "|         175|2020-02-01 00:00:00|       green|  3626.6899999999946|               268.75|                   13.5|                      2.82|          122.40000000000003|                    34.20000000000003|          4068.3599999999988|                                 0.0|                       1.1|       6.121779661016951|\n",
      "|          87|2020-03-01 00:00:00|       green|  3224.8599999999997|                  1.0|                    3.0|                       0.0|          192.01000000000005|                   24.300000000000036|          3445.1699999999996|                                 0.0|                       1.0|      10.735185185185186|\n",
      "|         243|2021-10-01 00:00:00|       green|   13752.01000000002|    483.8500000000001|                  142.0|        1032.2799999999997|           328.9000000000003|                   173.10000000000085|          16178.840000000024|                                88.0|        1.1661129568106312|       443.8262478485369|\n",
      "|         151|2021-10-01 00:00:00|       green|   3113.719999999999|               243.35|                    2.5|                     34.39|          100.26999999999997|                    29.40000000000005|           3533.630000000002|                                 0.0|                       1.0|      1814.0055102040817|\n",
      "+------------+-------------------+------------+--------------------+---------------------+-----------------------+--------------------------+----------------------------+-------------------------------------+----------------------------+------------------------------------+--------------------------+------------------------+\n",
      "only showing top 20 rows\n",
      "\n"
     ]
    },
    {
     "name": "stderr",
     "output_type": "stream",
     "text": [
      "\r",
      "                                                                                \r"
     ]
    }
   ],
   "source": [
    "df_result.show()"
   ]
  },
  {
   "cell_type": "code",
   "execution_count": 34,
   "id": "a65f1df3",
   "metadata": {},
   "outputs": [
    {
     "name": "stderr",
     "output_type": "stream",
     "text": [
      "                                                                                \r"
     ]
    }
   ],
   "source": [
    "df_result.coalesce(1).write.parquet('data/report/revenue/', mode='overwrite')"
   ]
  },
  {
   "cell_type": "code",
   "execution_count": null,
   "id": "a841f4e8",
   "metadata": {},
   "outputs": [],
   "source": []
  }
 ],
 "metadata": {
  "kernelspec": {
   "display_name": "Python 3 (ipykernel)",
   "language": "python",
   "name": "python3"
  },
  "language_info": {
   "codemirror_mode": {
    "name": "ipython",
    "version": 3
   },
   "file_extension": ".py",
   "mimetype": "text/x-python",
   "name": "python",
   "nbconvert_exporter": "python",
   "pygments_lexer": "ipython3",
   "version": "3.10.9"
  }
 },
 "nbformat": 4,
 "nbformat_minor": 5
}
